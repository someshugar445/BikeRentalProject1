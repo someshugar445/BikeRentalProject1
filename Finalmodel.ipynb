{
  "nbformat": 4,
  "nbformat_minor": 0,
  "metadata": {
    "kernelspec": {
      "display_name": "Python 3",
      "language": "python",
      "name": "python3"
    },
    "language_info": {
      "codemirror_mode": {
        "name": "ipython",
        "version": 3
      },
      "file_extension": ".py",
      "mimetype": "text/x-python",
      "name": "python",
      "nbconvert_exporter": "python",
      "pygments_lexer": "ipython3",
      "version": "3.7.3"
    },
    "colab": {
      "name": "Finalmodel.ipynb",
      "provenance": []
    }
  },
  "cells": [
    {
      "cell_type": "code",
      "metadata": {
        "id": "M4mGm8mYvmpb"
      },
      "source": [
        "# Import all the required libraries\n",
        "import pandas as pd\n",
        "import matplotlib.pyplot as plt\n",
        "import numpy as np\n",
        "from sklearn.model_selection import train_test_split\n",
        "from sklearn.tree import DecisionTreeRegressor\n",
        "from sklearn.tree import DecisionTreeClassifier\n",
        "from sklearn.ensemble import RandomForestRegressor,ExtraTreesRegressor\n",
        "from sklearn.metrics import mean_absolute_error\n",
        "import seaborn as sns\n",
        "from sklearn.metrics import accuracy_score\n",
        "import os\n",
        "import statsmodels.api as sm\n",
        "from sklearn.metrics import mean_squared_error, r2_score\n",
        "import datetime\n",
        "from sklearn.metrics import mean_squared_error\n",
        "from math import sqrt\n",
        "from sklearn.linear_model import LinearRegression\n",
        "from sklearn.model_selection import train_test_split\n",
        "from sklearn import preprocessing"
      ],
      "execution_count": 362,
      "outputs": []
    },
    {
      "cell_type": "code",
      "metadata": {
        "id": "wmlODaM0vmpj",
        "outputId": "44f2f85d-1b6e-43d8-e11e-25b9a7586f07",
        "colab": {
          "base_uri": "https://localhost:8080/",
          "height": 35
        }
      },
      "source": [
        "# Get current directory\n",
        "dirpath = os.getcwd()\n",
        "print(\"current directory is : \" + dirpath)"
      ],
      "execution_count": 363,
      "outputs": [
        {
          "output_type": "stream",
          "text": [
            "current directory is : /content/gdrive/My Drive/Colab Notebooks/Bike_Rental_Count/BikeRentalProject1\n"
          ],
          "name": "stdout"
        }
      ]
    },
    {
      "cell_type": "code",
      "metadata": {
        "id": "8LZDsni9xvXh",
        "outputId": "c0dde3b7-a554-4d45-d5ad-469bbc48253f",
        "colab": {
          "base_uri": "https://localhost:8080/",
          "height": 35
        }
      },
      "source": [
        "from google.colab import drive\n",
        "drive.mount('/content/gdrive')"
      ],
      "execution_count": 364,
      "outputs": [
        {
          "output_type": "stream",
          "text": [
            "Drive already mounted at /content/gdrive; to attempt to forcibly remount, call drive.mount(\"/content/gdrive\", force_remount=True).\n"
          ],
          "name": "stdout"
        }
      ]
    },
    {
      "cell_type": "code",
      "metadata": {
        "id": "plxDL-bcvmpo",
        "outputId": "5221dd7b-eaf6-4217-e5a7-734a183cc12f",
        "colab": {
          "base_uri": "https://localhost:8080/",
          "height": 35
        }
      },
      "source": [
        "# Get file path\n",
        "# day_file = \"/home/someshugar/Project 1/day.csv\"\n",
        "%cd /content/gdrive/My Drive/Colab Notebooks/Bike_Rental_Count/BikeRentalProject1"
      ],
      "execution_count": 365,
      "outputs": [
        {
          "output_type": "stream",
          "text": [
            "/content/gdrive/My Drive/Colab Notebooks/Bike_Rental_Count/BikeRentalProject1\n"
          ],
          "name": "stdout"
        }
      ]
    },
    {
      "cell_type": "code",
      "metadata": {
        "id": "ikzmZj47x-TG",
        "outputId": "5c6b499b-ee84-44b6-c874-7e3170aae193",
        "colab": {
          "base_uri": "https://localhost:8080/",
          "height": 121
        }
      },
      "source": [
        "!ls"
      ],
      "execution_count": 366,
      "outputs": [
        {
          "output_type": "stream",
          "text": [
            " bike_rental.R\t Figure3.png   Figure9.png\n",
            " DataN0103.pdf\t Figure4.png   prediction.csv\n",
            " day.csv\t Figure5.png  'Project1 Bike Renting -Final model.ipynb'\n",
            " Figure10.png\t Figure6.png  'Project1_Bike Renting New Report.pdf'\n",
            " Figure1.png\t Figure7.png   sample-report.pdf\n",
            " Figure2.png\t Figure8.png\n"
          ],
          "name": "stdout"
        }
      ]
    },
    {
      "cell_type": "code",
      "metadata": {
        "id": "WIklUvd6vmpv",
        "outputId": "70e74730-85d3-42a5-e4d0-4734a69fdfa1",
        "colab": {
          "base_uri": "https://localhost:8080/",
          "height": 35
        }
      },
      "source": [
        "# Read file  using pandas and check shape\n",
        "df = pd.read_csv(\"day.csv\", index_col=0)\n",
        "print(df.shape)"
      ],
      "execution_count": 367,
      "outputs": [
        {
          "output_type": "stream",
          "text": [
            "(731, 15)\n"
          ],
          "name": "stdout"
        }
      ]
    },
    {
      "cell_type": "code",
      "metadata": {
        "id": "ep41Lgk-vmp2",
        "outputId": "4c1d985c-32d1-4a48-ca14-f70a210c9aa9",
        "colab": {
          "base_uri": "https://localhost:8080/",
          "height": 233
        }
      },
      "source": [
        "# View and analyse head of the Dataframe\n",
        "df.head()"
      ],
      "execution_count": 368,
      "outputs": [
        {
          "output_type": "execute_result",
          "data": {
            "text/html": [
              "<div>\n",
              "<style scoped>\n",
              "    .dataframe tbody tr th:only-of-type {\n",
              "        vertical-align: middle;\n",
              "    }\n",
              "\n",
              "    .dataframe tbody tr th {\n",
              "        vertical-align: top;\n",
              "    }\n",
              "\n",
              "    .dataframe thead th {\n",
              "        text-align: right;\n",
              "    }\n",
              "</style>\n",
              "<table border=\"1\" class=\"dataframe\">\n",
              "  <thead>\n",
              "    <tr style=\"text-align: right;\">\n",
              "      <th></th>\n",
              "      <th>dteday</th>\n",
              "      <th>season</th>\n",
              "      <th>yr</th>\n",
              "      <th>mnth</th>\n",
              "      <th>holiday</th>\n",
              "      <th>weekday</th>\n",
              "      <th>workingday</th>\n",
              "      <th>weathersit</th>\n",
              "      <th>temp</th>\n",
              "      <th>atemp</th>\n",
              "      <th>hum</th>\n",
              "      <th>windspeed</th>\n",
              "      <th>casual</th>\n",
              "      <th>registered</th>\n",
              "      <th>cnt</th>\n",
              "    </tr>\n",
              "    <tr>\n",
              "      <th>instant</th>\n",
              "      <th></th>\n",
              "      <th></th>\n",
              "      <th></th>\n",
              "      <th></th>\n",
              "      <th></th>\n",
              "      <th></th>\n",
              "      <th></th>\n",
              "      <th></th>\n",
              "      <th></th>\n",
              "      <th></th>\n",
              "      <th></th>\n",
              "      <th></th>\n",
              "      <th></th>\n",
              "      <th></th>\n",
              "      <th></th>\n",
              "    </tr>\n",
              "  </thead>\n",
              "  <tbody>\n",
              "    <tr>\n",
              "      <th>1</th>\n",
              "      <td>2011-01-01</td>\n",
              "      <td>1</td>\n",
              "      <td>0</td>\n",
              "      <td>1</td>\n",
              "      <td>0</td>\n",
              "      <td>6</td>\n",
              "      <td>0</td>\n",
              "      <td>2</td>\n",
              "      <td>0.344167</td>\n",
              "      <td>0.363625</td>\n",
              "      <td>0.805833</td>\n",
              "      <td>0.160446</td>\n",
              "      <td>331</td>\n",
              "      <td>654</td>\n",
              "      <td>985</td>\n",
              "    </tr>\n",
              "    <tr>\n",
              "      <th>2</th>\n",
              "      <td>2011-01-02</td>\n",
              "      <td>1</td>\n",
              "      <td>0</td>\n",
              "      <td>1</td>\n",
              "      <td>0</td>\n",
              "      <td>0</td>\n",
              "      <td>0</td>\n",
              "      <td>2</td>\n",
              "      <td>0.363478</td>\n",
              "      <td>0.353739</td>\n",
              "      <td>0.696087</td>\n",
              "      <td>0.248539</td>\n",
              "      <td>131</td>\n",
              "      <td>670</td>\n",
              "      <td>801</td>\n",
              "    </tr>\n",
              "    <tr>\n",
              "      <th>3</th>\n",
              "      <td>2011-01-03</td>\n",
              "      <td>1</td>\n",
              "      <td>0</td>\n",
              "      <td>1</td>\n",
              "      <td>0</td>\n",
              "      <td>1</td>\n",
              "      <td>1</td>\n",
              "      <td>1</td>\n",
              "      <td>0.196364</td>\n",
              "      <td>0.189405</td>\n",
              "      <td>0.437273</td>\n",
              "      <td>0.248309</td>\n",
              "      <td>120</td>\n",
              "      <td>1229</td>\n",
              "      <td>1349</td>\n",
              "    </tr>\n",
              "    <tr>\n",
              "      <th>4</th>\n",
              "      <td>2011-01-04</td>\n",
              "      <td>1</td>\n",
              "      <td>0</td>\n",
              "      <td>1</td>\n",
              "      <td>0</td>\n",
              "      <td>2</td>\n",
              "      <td>1</td>\n",
              "      <td>1</td>\n",
              "      <td>0.200000</td>\n",
              "      <td>0.212122</td>\n",
              "      <td>0.590435</td>\n",
              "      <td>0.160296</td>\n",
              "      <td>108</td>\n",
              "      <td>1454</td>\n",
              "      <td>1562</td>\n",
              "    </tr>\n",
              "    <tr>\n",
              "      <th>5</th>\n",
              "      <td>2011-01-05</td>\n",
              "      <td>1</td>\n",
              "      <td>0</td>\n",
              "      <td>1</td>\n",
              "      <td>0</td>\n",
              "      <td>3</td>\n",
              "      <td>1</td>\n",
              "      <td>1</td>\n",
              "      <td>0.226957</td>\n",
              "      <td>0.229270</td>\n",
              "      <td>0.436957</td>\n",
              "      <td>0.186900</td>\n",
              "      <td>82</td>\n",
              "      <td>1518</td>\n",
              "      <td>1600</td>\n",
              "    </tr>\n",
              "  </tbody>\n",
              "</table>\n",
              "</div>"
            ],
            "text/plain": [
              "             dteday  season  yr  mnth  ...  windspeed  casual  registered   cnt\n",
              "instant                                ...                                     \n",
              "1        2011-01-01       1   0     1  ...   0.160446     331         654   985\n",
              "2        2011-01-02       1   0     1  ...   0.248539     131         670   801\n",
              "3        2011-01-03       1   0     1  ...   0.248309     120        1229  1349\n",
              "4        2011-01-04       1   0     1  ...   0.160296     108        1454  1562\n",
              "5        2011-01-05       1   0     1  ...   0.186900      82        1518  1600\n",
              "\n",
              "[5 rows x 15 columns]"
            ]
          },
          "metadata": {
            "tags": []
          },
          "execution_count": 368
        }
      ]
    },
    {
      "cell_type": "code",
      "metadata": {
        "id": "TMbYMMQsvmqI"
      },
      "source": [
        "# Date time conversion\n",
        "df.dteday = pd.to_datetime(df.dteday, format='%Y-%m-%d')"
      ],
      "execution_count": 369,
      "outputs": []
    },
    {
      "cell_type": "code",
      "metadata": {
        "id": "FEBs3BUpAn8h"
      },
      "source": [
        "df['hr'] = df['dteday'].dt.hour"
      ],
      "execution_count": 370,
      "outputs": []
    },
    {
      "cell_type": "code",
      "metadata": {
        "id": "AjwBd7ckvmqM"
      },
      "source": [
        "# df['day'] = df['dteday'].dt.day\n",
        "df.drop('dteday',axis=1,inplace=True)"
      ],
      "execution_count": 371,
      "outputs": []
    },
    {
      "cell_type": "code",
      "metadata": {
        "id": "cDTpEpb0vmqV",
        "outputId": "0736f3a8-6ed1-4bb2-b2c1-198eaaa6db88",
        "colab": {
          "base_uri": "https://localhost:8080/",
          "height": 295
        }
      },
      "source": [
        "df.dtypes"
      ],
      "execution_count": 372,
      "outputs": [
        {
          "output_type": "execute_result",
          "data": {
            "text/plain": [
              "season          int64\n",
              "yr              int64\n",
              "mnth            int64\n",
              "holiday         int64\n",
              "weekday         int64\n",
              "workingday      int64\n",
              "weathersit      int64\n",
              "temp          float64\n",
              "atemp         float64\n",
              "hum           float64\n",
              "windspeed     float64\n",
              "casual          int64\n",
              "registered      int64\n",
              "cnt             int64\n",
              "hr              int64\n",
              "dtype: object"
            ]
          },
          "metadata": {
            "tags": []
          },
          "execution_count": 372
        }
      ]
    },
    {
      "cell_type": "code",
      "metadata": {
        "id": "7U4Mk82Qvmqf",
        "outputId": "e5648deb-2d46-4d96-ccf4-0f015fcc8593",
        "colab": {
          "base_uri": "https://localhost:8080/",
          "height": 295
        }
      },
      "source": [
        "# Find columns with NaN\n",
        "df.isnull().sum(axis=0)"
      ],
      "execution_count": 373,
      "outputs": [
        {
          "output_type": "execute_result",
          "data": {
            "text/plain": [
              "season        0\n",
              "yr            0\n",
              "mnth          0\n",
              "holiday       0\n",
              "weekday       0\n",
              "workingday    0\n",
              "weathersit    0\n",
              "temp          0\n",
              "atemp         0\n",
              "hum           0\n",
              "windspeed     0\n",
              "casual        0\n",
              "registered    0\n",
              "cnt           0\n",
              "hr            0\n",
              "dtype: int64"
            ]
          },
          "metadata": {
            "tags": []
          },
          "execution_count": 373
        }
      ]
    },
    {
      "cell_type": "code",
      "metadata": {
        "id": "TAiX_E22GCEn"
      },
      "source": [
        "\n",
        "# categorical variables\n",
        "df['season'] = df.season.astype('category')\n",
        "df['holiday'] = df.holiday.astype('category')\n",
        "df['weekday'] = df.weekday.astype('category')\n",
        "df['weathersit'] = df.weathersit.astype('category')\n",
        "df['workingday'] = df.workingday.astype('category')\n",
        "df['mnth'] = df.mnth.astype('category')\n",
        "df['yr'] = df.yr.astype('category')\n",
        "df['hr'] = df.hr.astype('category')"
      ],
      "execution_count": 374,
      "outputs": []
    },
    {
      "cell_type": "code",
      "metadata": {
        "id": "zrFAqZb7LJw6"
      },
      "source": [
        "df.drop(['casual','registered'],axis=1,inplace=True)"
      ],
      "execution_count": 375,
      "outputs": []
    },
    {
      "cell_type": "code",
      "metadata": {
        "id": "fEs-JphhGfJe",
        "outputId": "9868e6ca-a17e-49a0-91c0-51d0b8c88101",
        "colab": {
          "base_uri": "https://localhost:8080/",
          "height": 52
        }
      },
      "source": [
        "#Feature Engineering\n",
        "# Defining categorical variables encoder method\n",
        "def fit_transform_ohe(df,col_name):\n",
        "    # label encode the column\n",
        "    le = preprocessing.LabelEncoder()\n",
        "    le_labels = le.fit_transform(df[col_name])\n",
        "    df[col_name+'_label'] = le_labels\n",
        "    # one hot encoding\n",
        "    ohe = preprocessing.OneHotEncoder()\n",
        "    feature_arr = ohe.fit_transform(df[[col_name+'_label']]).toarray()\n",
        "    feature_labels = [col_name+'_'+str(cls_label) for cls_label in le.classes_]\n",
        "    features_df = pd.DataFrame(feature_arr, columns=feature_labels)\n",
        "    return le,ohe,features_df\n",
        "\n",
        "# given label encoder and one hot encoder objects, \n",
        "# encode attribute to ohe\n",
        "def transform_ohe(df,le,ohe,col_name):\n",
        "    # label encode\n",
        "    col_labels = le.transform(df[col_name])\n",
        "    df[col_name+'_label'] = col_labels\n",
        "    \n",
        "    # ohe \n",
        "    feature_arr = ohe.fit_transform(df[[col_name+'_label']]).toarray()\n",
        "    feature_labels = [col_name+'_'+str(cls_label) for cls_label in le.classes_]\n",
        "    features_df = pd.DataFrame(feature_arr, columns=feature_labels)\n",
        "    \n",
        "    return features_df\n",
        "# Divide the dataset into training and testing sets\n",
        "X, X_test, y, y_test = train_test_split(df.drop('cnt',axis=1),\n",
        "                                        df.iloc[:,-1],\n",
        "                                        test_size=0.33,\n",
        "                                        random_state=42)\n",
        "X.reset_index(inplace=True)\n",
        "y = y.reset_index()\n",
        "\n",
        "X_test.reset_index(inplace=True)\n",
        "y_test = y_test.reset_index()\n",
        "# Encoding all the categorical features\n",
        "cat_attr_list = ['season','holiday',\n",
        "                 'weathersit','workingday',\n",
        "                 'hr','weekday','mnth','yr']\n",
        "# though we have transformed all categoricals into their one-hot encodings, note that ordinal\n",
        "# attributes such as hour, weekday, and so on do not require such encoding.\n",
        "numeric_feature_cols = ['temp','hum','windspeed',\n",
        "                        'hr','weekday','mnth','yr']\n",
        "subset_cat_features =  ['season','holiday','weathersit','workingday']\n",
        "\n",
        "###############\n",
        "# Train dataset\n",
        "###############\n",
        "encoded_attr_list = []\n",
        "for col in cat_attr_list:\n",
        "    return_obj = fit_transform_ohe(X,col)\n",
        "    encoded_attr_list.append({'label_enc':return_obj[0],\n",
        "                              'ohe_enc':return_obj[1],\n",
        "                              'feature_df':return_obj[2],\n",
        "                              'col_name':col})\n",
        "\n",
        "\n",
        "feature_df_list  = [X[numeric_feature_cols]]\n",
        "feature_df_list.extend([enc['feature_df'] \\\n",
        "                        for enc in encoded_attr_list \\\n",
        "                        if enc['col_name'] in subset_cat_features])\n",
        "\n",
        "train_df_new = pd.concat(feature_df_list, axis=1)\n",
        "print(\"Train dataset shape::{}\".format(train_df_new.shape))\n",
        "\n",
        "##############\n",
        "# Test dataset\n",
        "##############\n",
        "test_encoded_attr_list = []\n",
        "for enc in encoded_attr_list:\n",
        "    col_name = enc['col_name']\n",
        "    le = enc['label_enc']\n",
        "    ohe = enc['ohe_enc']\n",
        "    test_encoded_attr_list.append({'feature_df':transform_ohe(X_test,\n",
        "                                                              le,ohe,\n",
        "                                                              col_name),\n",
        "                                   'col_name':col_name})\n",
        "    \n",
        "    \n",
        "test_feature_df_list = [X_test[numeric_feature_cols]]\n",
        "test_feature_df_list.extend([enc['feature_df'] \\\n",
        "                             for enc in test_encoded_attr_list \\\n",
        "                             if enc['col_name'] in subset_cat_features])\n",
        "\n",
        "test_df_new = pd.concat(test_feature_df_list, axis=1) \n",
        "print(\"Test dataset shape::{}\".format(test_df_new.shape))"
      ],
      "execution_count": 376,
      "outputs": [
        {
          "output_type": "stream",
          "text": [
            "Train dataset shape::(489, 18)\n",
            "Test dataset shape::(242, 18)\n"
          ],
          "name": "stdout"
        }
      ]
    },
    {
      "cell_type": "code",
      "metadata": {
        "id": "BrZ9mB5TvTGi",
        "outputId": "dfcff459-4ff5-41e9-fa0b-01016e669f6f",
        "colab": {
          "base_uri": "https://localhost:8080/",
          "height": 104
        }
      },
      "source": [
        "test_df_new.columns"
      ],
      "execution_count": 377,
      "outputs": [
        {
          "output_type": "execute_result",
          "data": {
            "text/plain": [
              "Index(['temp', 'hum', 'windspeed', 'hr', 'weekday', 'mnth', 'yr', 'season_1',\n",
              "       'season_2', 'season_3', 'season_4', 'holiday_0', 'holiday_1',\n",
              "       'weathersit_1', 'weathersit_2', 'weathersit_3', 'workingday_0',\n",
              "       'workingday_1'],\n",
              "      dtype='object')"
            ]
          },
          "metadata": {
            "tags": []
          },
          "execution_count": 377
        }
      ]
    },
    {
      "cell_type": "code",
      "metadata": {
        "id": "esy9BIPlxPb8",
        "outputId": "4942b524-2817-4afe-ea1e-3a96d27735f1",
        "colab": {
          "base_uri": "https://localhost:8080/",
          "height": 104
        }
      },
      "source": [
        "train_df_new.columns"
      ],
      "execution_count": 378,
      "outputs": [
        {
          "output_type": "execute_result",
          "data": {
            "text/plain": [
              "Index(['temp', 'hum', 'windspeed', 'hr', 'weekday', 'mnth', 'yr', 'season_1',\n",
              "       'season_2', 'season_3', 'season_4', 'holiday_0', 'holiday_1',\n",
              "       'weathersit_1', 'weathersit_2', 'weathersit_3', 'workingday_0',\n",
              "       'workingday_1'],\n",
              "      dtype='object')"
            ]
          },
          "metadata": {
            "tags": []
          },
          "execution_count": 378
        }
      ]
    },
    {
      "cell_type": "code",
      "metadata": {
        "id": "SIRHXYZGIs5e",
        "outputId": "829fdced-6303-4e30-fe28-4c2a6e7a83e5",
        "colab": {
          "base_uri": "https://localhost:8080/",
          "height": 35
        }
      },
      "source": [
        "# Constructing train dataset\n",
        "X_train = train_df_new\n",
        "y_train= y\n",
        "\n",
        "# Constructing test dataset\n",
        "X_test = test_df_new\n",
        "y_test = y_test\n",
        "print(X.shape,y.shape)"
      ],
      "execution_count": 379,
      "outputs": [
        {
          "output_type": "stream",
          "text": [
            "(489, 21) (489, 2)\n"
          ],
          "name": "stdout"
        }
      ]
    },
    {
      "cell_type": "markdown",
      "metadata": {
        "id": "AeLo3ebyvmtM"
      },
      "source": [
        "# LinearRegression Model"
      ]
    },
    {
      "cell_type": "code",
      "metadata": {
        "id": "PgL7l4nyvmtO"
      },
      "source": [
        "model = LinearRegression()\n",
        "model.fit(X_train, y_train)\n",
        "y_pred = model.predict(X_test)\n"
      ],
      "execution_count": 380,
      "outputs": []
    },
    {
      "cell_type": "code",
      "metadata": {
        "id": "esH2zgBkvmtm",
        "outputId": "8bdac267-4bc0-4c32-f68f-79332cefa578",
        "colab": {
          "base_uri": "https://localhost:8080/",
          "height": 52
        }
      },
      "source": [
        "rmse = sqrt(mean_squared_error(y_test, y_pred))\n",
        "print(\"RMSE =\", rmse)\n",
        "# Explained variance score: 1 is perfect prediction\n",
        "print('Variance score: %.2f' % r2_score(y_test, y_pred))\n"
      ],
      "execution_count": 381,
      "outputs": [
        {
          "output_type": "stream",
          "text": [
            "RMSE = 6.452570501009242\n",
            "Variance score: 1.00\n"
          ],
          "name": "stdout"
        }
      ]
    },
    {
      "cell_type": "code",
      "metadata": {
        "id": "saUPhOXPvmt8",
        "outputId": "fc1823ef-1d08-4a6e-b7cc-ab7fef18b217",
        "colab": {
          "base_uri": "https://localhost:8080/",
          "height": 208
        }
      },
      "source": [
        "# The coefficients\n",
        "print('Coefficients: \\n', model.coef_)\n",
        "\n"
      ],
      "execution_count": 382,
      "outputs": [
        {
          "output_type": "stream",
          "text": [
            "Coefficients: \n",
            " [[-1.76553880e+00  7.45618934e+00 -3.93785062e-02 -8.88178420e-15\n",
            "   1.26467218e-01  3.04467031e+01  3.66027914e+02  7.12080922e-01\n",
            "  -1.65096817e-01  3.54829952e-02 -5.82467100e-01 -7.23083102e-03\n",
            "   7.23083102e-03  9.37443526e-01 -8.97895960e-01 -3.95475660e-02\n",
            "  -2.15261926e-01  2.15261926e-01]\n",
            " [ 0.00000000e+00  0.00000000e+00  0.00000000e+00  0.00000000e+00\n",
            "   0.00000000e+00  0.00000000e+00  0.00000000e+00  0.00000000e+00\n",
            "   0.00000000e+00  0.00000000e+00  0.00000000e+00  0.00000000e+00\n",
            "   0.00000000e+00  0.00000000e+00  0.00000000e+00  0.00000000e+00\n",
            "   0.00000000e+00  0.00000000e+00]]\n"
          ],
          "name": "stdout"
        }
      ]
    },
    {
      "cell_type": "code",
      "metadata": {
        "id": "WaYVDLNAvmuM"
      },
      "source": [
        "from sklearn.metrics import mean_squared_log_error\n",
        "def rmsle(y_test,predictions):\n",
        "    return np.sqrt(mean_squared_log_error( y_test, predictions ))"
      ],
      "execution_count": 383,
      "outputs": []
    },
    {
      "cell_type": "markdown",
      "metadata": {
        "id": "8qIjy9YOvmun"
      },
      "source": [
        "# RandomForestRegressor Model"
      ]
    },
    {
      "cell_type": "code",
      "metadata": {
        "id": "84QwrnGIvmup"
      },
      "source": [
        "from sklearn.ensemble import RandomForestRegressor\n",
        "RFmodel = RandomForestRegressor()"
      ],
      "execution_count": 384,
      "outputs": []
    },
    {
      "cell_type": "code",
      "metadata": {
        "id": "sZd679ifvmvD"
      },
      "source": [
        "RFmodel.fit(X_train, y_train)\n",
        "RF_y_pred = RFmodel.predict(X_test)\n",
        "\n"
      ],
      "execution_count": 385,
      "outputs": []
    },
    {
      "cell_type": "code",
      "metadata": {
        "id": "JPs1YvopvmvQ",
        "outputId": "50128a67-0639-41a4-81a4-c0e26828253d",
        "colab": {
          "base_uri": "https://localhost:8080/",
          "height": 69
        }
      },
      "source": [
        "\n",
        "rmse = sqrt(mean_squared_error(y_test, RF_y_pred))\n",
        "print(\"RMSE =\",rmse)\n",
        "# Explained variance score: 1 is perfect prediction\n",
        "print('Variance score: %.2f' % r2_score(y_test, RF_y_pred))\n",
        "print(\"RMSLE: \",np.sqrt(mean_squared_log_error( y_test, RF_y_pred )))"
      ],
      "execution_count": 386,
      "outputs": [
        {
          "output_type": "stream",
          "text": [
            "RMSE = 5.539526339509155\n",
            "Variance score: 1.00\n",
            "RMSLE:  0.1004307679302777\n"
          ],
          "name": "stdout"
        }
      ]
    },
    {
      "cell_type": "markdown",
      "metadata": {
        "id": "XB-A-Ph7vmvk"
      },
      "source": [
        "# DecisionTreeRegressor Model"
      ]
    },
    {
      "cell_type": "code",
      "metadata": {
        "id": "K9CnrYLVvmvl"
      },
      "source": [
        "DT_model = DecisionTreeRegressor()\n",
        "DT_model.fit(X_train, y_train)\n",
        "DT_y_pred = DT_model.predict(X_test)   "
      ],
      "execution_count": 387,
      "outputs": []
    },
    {
      "cell_type": "code",
      "metadata": {
        "id": "Rz3CWns0vmvt",
        "outputId": "8d4d55df-0fd1-46f8-e6c9-56bf94b81a4e",
        "colab": {
          "base_uri": "https://localhost:8080/",
          "height": 69
        }
      },
      "source": [
        "rmse = sqrt(mean_squared_error(y_test, DT_y_pred))\n",
        "print(\"RMSE =\", rmse)\n",
        "# Explained variance score: 1 is perfect prediction\n",
        "print('Variance score: %.2f' % r2_score(y_test, DT_y_pred))\n",
        "print(\"RMSLE: \",np.sqrt(mean_squared_log_error( y_test, DT_y_pred )))"
      ],
      "execution_count": 388,
      "outputs": [
        {
          "output_type": "stream",
          "text": [
            "RMSE = 6.702965915631356\n",
            "Variance score: 1.00\n",
            "RMSLE:  0.1518109461669195\n"
          ],
          "name": "stdout"
        }
      ]
    },
    {
      "cell_type": "code",
      "metadata": {
        "id": "sJVn9sg3vmwB"
      },
      "source": [
        ""
      ],
      "execution_count": 388,
      "outputs": []
    }
  ]
}
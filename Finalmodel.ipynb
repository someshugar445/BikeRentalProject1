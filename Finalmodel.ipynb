{
  "nbformat": 4,
  "nbformat_minor": 0,
  "metadata": {
    "kernelspec": {
      "display_name": "Python 3",
      "language": "python",
      "name": "python3"
    },
    "language_info": {
      "codemirror_mode": {
        "name": "ipython",
        "version": 3
      },
      "file_extension": ".py",
      "mimetype": "text/x-python",
      "name": "python",
      "nbconvert_exporter": "python",
      "pygments_lexer": "ipython3",
      "version": "3.7.3"
    },
    "colab": {
      "name": "Finalmodel.ipynb",
      "provenance": []
    }
  },
  "cells": [
    {
      "cell_type": "code",
      "metadata": {
        "id": "M4mGm8mYvmpb"
      },
      "source": [
        "# Import all the required libraries\n",
        "import pandas as pd\n",
        "import matplotlib.pyplot as plt\n",
        "import numpy as np\n",
        "from sklearn.model_selection import train_test_split\n",
        "from sklearn.tree import DecisionTreeRegressor\n",
        "from sklearn.tree import DecisionTreeClassifier\n",
        "from sklearn.ensemble import RandomForestRegressor,ExtraTreesRegressor\n",
        "from sklearn.metrics import mean_absolute_error\n",
        "import seaborn as sns\n",
        "from sklearn.metrics import accuracy_score\n",
        "import os\n",
        "import statsmodels.api as sm\n",
        "from sklearn.metrics import mean_squared_error, r2_score\n",
        "import datetime\n",
        "from sklearn.metrics import mean_squared_error\n",
        "from math import sqrt\n",
        "from sklearn.linear_model import LinearRegression\n",
        "from sklearn.model_selection import train_test_split\n",
        "from sklearn import preprocessing"
      ],
      "execution_count": 58,
      "outputs": []
    },
    {
      "cell_type": "code",
      "metadata": {
        "id": "wmlODaM0vmpj",
        "outputId": "a7cf9f06-19fc-4c07-eb80-13c4e06a3081",
        "colab": {
          "base_uri": "https://localhost:8080/",
          "height": 35
        }
      },
      "source": [
        "# Get current directory\n",
        "dirpath = os.getcwd()\n",
        "print(\"current directory is : \" + dirpath)"
      ],
      "execution_count": 59,
      "outputs": [
        {
          "output_type": "stream",
          "text": [
            "current directory is : /content/gdrive/My Drive/Colab Notebooks/Bike_Rental_Count/BikeRentalProject1\n"
          ],
          "name": "stdout"
        }
      ]
    },
    {
      "cell_type": "code",
      "metadata": {
        "id": "8LZDsni9xvXh",
        "outputId": "14a4564b-b11e-4831-e6ac-35a0590ed280",
        "colab": {
          "base_uri": "https://localhost:8080/",
          "height": 35
        }
      },
      "source": [
        "from google.colab import drive\n",
        "drive.mount('/content/gdrive')"
      ],
      "execution_count": 60,
      "outputs": [
        {
          "output_type": "stream",
          "text": [
            "Drive already mounted at /content/gdrive; to attempt to forcibly remount, call drive.mount(\"/content/gdrive\", force_remount=True).\n"
          ],
          "name": "stdout"
        }
      ]
    },
    {
      "cell_type": "code",
      "metadata": {
        "id": "plxDL-bcvmpo",
        "outputId": "95c540b3-31f8-4ef2-8e0c-e007539f5ebc",
        "colab": {
          "base_uri": "https://localhost:8080/",
          "height": 35
        }
      },
      "source": [
        "# Get file path\n",
        "# day_file = \"/home/someshugar/Project 1/day.csv\"\n",
        "%cd /content/gdrive/My Drive/Colab Notebooks/Bike_Rental_Count/BikeRentalProject1"
      ],
      "execution_count": 61,
      "outputs": [
        {
          "output_type": "stream",
          "text": [
            "/content/gdrive/My Drive/Colab Notebooks/Bike_Rental_Count/BikeRentalProject1\n"
          ],
          "name": "stdout"
        }
      ]
    },
    {
      "cell_type": "code",
      "metadata": {
        "id": "WIklUvd6vmpv",
        "outputId": "0ac9cf58-e556-4c6d-f9ee-e5fee69d6ac8",
        "colab": {
          "base_uri": "https://localhost:8080/",
          "height": 35
        }
      },
      "source": [
        "# Read file  using pandas and check shape\n",
        "df = pd.read_csv(\"day.csv\", index_col=0)\n",
        "print(df.shape)"
      ],
      "execution_count": 62,
      "outputs": [
        {
          "output_type": "stream",
          "text": [
            "(731, 15)\n"
          ],
          "name": "stdout"
        }
      ]
    },
    {
      "cell_type": "code",
      "metadata": {
        "id": "ep41Lgk-vmp2",
        "outputId": "1a5c02ce-04c5-40c9-8687-593526ad8a7a",
        "colab": {
          "base_uri": "https://localhost:8080/",
          "height": 233
        }
      },
      "source": [
        "# View and analyse head of the Dataframe\n",
        "df.head()"
      ],
      "execution_count": 63,
      "outputs": [
        {
          "output_type": "execute_result",
          "data": {
            "text/html": [
              "<div>\n",
              "<style scoped>\n",
              "    .dataframe tbody tr th:only-of-type {\n",
              "        vertical-align: middle;\n",
              "    }\n",
              "\n",
              "    .dataframe tbody tr th {\n",
              "        vertical-align: top;\n",
              "    }\n",
              "\n",
              "    .dataframe thead th {\n",
              "        text-align: right;\n",
              "    }\n",
              "</style>\n",
              "<table border=\"1\" class=\"dataframe\">\n",
              "  <thead>\n",
              "    <tr style=\"text-align: right;\">\n",
              "      <th></th>\n",
              "      <th>dteday</th>\n",
              "      <th>season</th>\n",
              "      <th>yr</th>\n",
              "      <th>mnth</th>\n",
              "      <th>holiday</th>\n",
              "      <th>weekday</th>\n",
              "      <th>workingday</th>\n",
              "      <th>weathersit</th>\n",
              "      <th>temp</th>\n",
              "      <th>atemp</th>\n",
              "      <th>hum</th>\n",
              "      <th>windspeed</th>\n",
              "      <th>casual</th>\n",
              "      <th>registered</th>\n",
              "      <th>cnt</th>\n",
              "    </tr>\n",
              "    <tr>\n",
              "      <th>instant</th>\n",
              "      <th></th>\n",
              "      <th></th>\n",
              "      <th></th>\n",
              "      <th></th>\n",
              "      <th></th>\n",
              "      <th></th>\n",
              "      <th></th>\n",
              "      <th></th>\n",
              "      <th></th>\n",
              "      <th></th>\n",
              "      <th></th>\n",
              "      <th></th>\n",
              "      <th></th>\n",
              "      <th></th>\n",
              "      <th></th>\n",
              "    </tr>\n",
              "  </thead>\n",
              "  <tbody>\n",
              "    <tr>\n",
              "      <th>1</th>\n",
              "      <td>2011-01-01</td>\n",
              "      <td>1</td>\n",
              "      <td>0</td>\n",
              "      <td>1</td>\n",
              "      <td>0</td>\n",
              "      <td>6</td>\n",
              "      <td>0</td>\n",
              "      <td>2</td>\n",
              "      <td>0.344167</td>\n",
              "      <td>0.363625</td>\n",
              "      <td>0.805833</td>\n",
              "      <td>0.160446</td>\n",
              "      <td>331</td>\n",
              "      <td>654</td>\n",
              "      <td>985</td>\n",
              "    </tr>\n",
              "    <tr>\n",
              "      <th>2</th>\n",
              "      <td>2011-01-02</td>\n",
              "      <td>1</td>\n",
              "      <td>0</td>\n",
              "      <td>1</td>\n",
              "      <td>0</td>\n",
              "      <td>0</td>\n",
              "      <td>0</td>\n",
              "      <td>2</td>\n",
              "      <td>0.363478</td>\n",
              "      <td>0.353739</td>\n",
              "      <td>0.696087</td>\n",
              "      <td>0.248539</td>\n",
              "      <td>131</td>\n",
              "      <td>670</td>\n",
              "      <td>801</td>\n",
              "    </tr>\n",
              "    <tr>\n",
              "      <th>3</th>\n",
              "      <td>2011-01-03</td>\n",
              "      <td>1</td>\n",
              "      <td>0</td>\n",
              "      <td>1</td>\n",
              "      <td>0</td>\n",
              "      <td>1</td>\n",
              "      <td>1</td>\n",
              "      <td>1</td>\n",
              "      <td>0.196364</td>\n",
              "      <td>0.189405</td>\n",
              "      <td>0.437273</td>\n",
              "      <td>0.248309</td>\n",
              "      <td>120</td>\n",
              "      <td>1229</td>\n",
              "      <td>1349</td>\n",
              "    </tr>\n",
              "    <tr>\n",
              "      <th>4</th>\n",
              "      <td>2011-01-04</td>\n",
              "      <td>1</td>\n",
              "      <td>0</td>\n",
              "      <td>1</td>\n",
              "      <td>0</td>\n",
              "      <td>2</td>\n",
              "      <td>1</td>\n",
              "      <td>1</td>\n",
              "      <td>0.200000</td>\n",
              "      <td>0.212122</td>\n",
              "      <td>0.590435</td>\n",
              "      <td>0.160296</td>\n",
              "      <td>108</td>\n",
              "      <td>1454</td>\n",
              "      <td>1562</td>\n",
              "    </tr>\n",
              "    <tr>\n",
              "      <th>5</th>\n",
              "      <td>2011-01-05</td>\n",
              "      <td>1</td>\n",
              "      <td>0</td>\n",
              "      <td>1</td>\n",
              "      <td>0</td>\n",
              "      <td>3</td>\n",
              "      <td>1</td>\n",
              "      <td>1</td>\n",
              "      <td>0.226957</td>\n",
              "      <td>0.229270</td>\n",
              "      <td>0.436957</td>\n",
              "      <td>0.186900</td>\n",
              "      <td>82</td>\n",
              "      <td>1518</td>\n",
              "      <td>1600</td>\n",
              "    </tr>\n",
              "  </tbody>\n",
              "</table>\n",
              "</div>"
            ],
            "text/plain": [
              "             dteday  season  yr  mnth  ...  windspeed  casual  registered   cnt\n",
              "instant                                ...                                     \n",
              "1        2011-01-01       1   0     1  ...   0.160446     331         654   985\n",
              "2        2011-01-02       1   0     1  ...   0.248539     131         670   801\n",
              "3        2011-01-03       1   0     1  ...   0.248309     120        1229  1349\n",
              "4        2011-01-04       1   0     1  ...   0.160296     108        1454  1562\n",
              "5        2011-01-05       1   0     1  ...   0.186900      82        1518  1600\n",
              "\n",
              "[5 rows x 15 columns]"
            ]
          },
          "metadata": {
            "tags": []
          },
          "execution_count": 63
        }
      ]
    },
    {
      "cell_type": "code",
      "metadata": {
        "id": "TMbYMMQsvmqI"
      },
      "source": [
        "# Date time conversion\n",
        "df.dteday = pd.to_datetime(df.dteday, format='%Y-%m-%d')"
      ],
      "execution_count": 64,
      "outputs": []
    },
    {
      "cell_type": "code",
      "metadata": {
        "id": "FEBs3BUpAn8h"
      },
      "source": [
        "df['hr'] = df['dteday'].dt.hour"
      ],
      "execution_count": 65,
      "outputs": []
    },
    {
      "cell_type": "code",
      "metadata": {
        "id": "AjwBd7ckvmqM"
      },
      "source": [
        "# df['day'] = df['dteday'].dt.day\n",
        "df.drop('dteday',axis=1,inplace=True)"
      ],
      "execution_count": 66,
      "outputs": []
    },
    {
      "cell_type": "code",
      "metadata": {
        "id": "cDTpEpb0vmqV",
        "outputId": "2b273da9-7f86-452f-e0b7-4f0490976241",
        "colab": {
          "base_uri": "https://localhost:8080/",
          "height": 295
        }
      },
      "source": [
        "df.dtypes"
      ],
      "execution_count": 67,
      "outputs": [
        {
          "output_type": "execute_result",
          "data": {
            "text/plain": [
              "season          int64\n",
              "yr              int64\n",
              "mnth            int64\n",
              "holiday         int64\n",
              "weekday         int64\n",
              "workingday      int64\n",
              "weathersit      int64\n",
              "temp          float64\n",
              "atemp         float64\n",
              "hum           float64\n",
              "windspeed     float64\n",
              "casual          int64\n",
              "registered      int64\n",
              "cnt             int64\n",
              "hr              int64\n",
              "dtype: object"
            ]
          },
          "metadata": {
            "tags": []
          },
          "execution_count": 67
        }
      ]
    },
    {
      "cell_type": "code",
      "metadata": {
        "id": "7U4Mk82Qvmqf",
        "outputId": "8a27776f-6898-44fc-ba18-3afeed2aa3f3",
        "colab": {
          "base_uri": "https://localhost:8080/",
          "height": 295
        }
      },
      "source": [
        "# Find columns with NaN\n",
        "df.isnull().sum(axis=0)"
      ],
      "execution_count": 68,
      "outputs": [
        {
          "output_type": "execute_result",
          "data": {
            "text/plain": [
              "season        0\n",
              "yr            0\n",
              "mnth          0\n",
              "holiday       0\n",
              "weekday       0\n",
              "workingday    0\n",
              "weathersit    0\n",
              "temp          0\n",
              "atemp         0\n",
              "hum           0\n",
              "windspeed     0\n",
              "casual        0\n",
              "registered    0\n",
              "cnt           0\n",
              "hr            0\n",
              "dtype: int64"
            ]
          },
          "metadata": {
            "tags": []
          },
          "execution_count": 68
        }
      ]
    },
    {
      "cell_type": "code",
      "metadata": {
        "id": "TAiX_E22GCEn"
      },
      "source": [
        "\n",
        "# categorical variables\n",
        "df['season'] = df.season.astype('category')\n",
        "df['holiday'] = df.holiday.astype('category')\n",
        "df['weekday'] = df.weekday.astype('category')\n",
        "df['weathersit'] = df.weathersit.astype('category')\n",
        "df['workingday'] = df.workingday.astype('category')\n",
        "df['mnth'] = df.mnth.astype('category')\n",
        "df['yr'] = df.yr.astype('category')\n",
        "df['hr'] = df.hr.astype('category')"
      ],
      "execution_count": 69,
      "outputs": []
    },
    {
      "cell_type": "code",
      "metadata": {
        "id": "zrFAqZb7LJw6"
      },
      "source": [
        "df.drop(['casual','registered'],axis=1,inplace=True)"
      ],
      "execution_count": 70,
      "outputs": []
    },
    {
      "cell_type": "code",
      "metadata": {
        "id": "kGgAedYT_5FJ",
        "outputId": "d21aee67-c5f8-463d-f43f-91e9e421eacf",
        "colab": {
          "base_uri": "https://localhost:8080/",
          "height": 233
        }
      },
      "source": [
        "df.head()"
      ],
      "execution_count": 71,
      "outputs": [
        {
          "output_type": "execute_result",
          "data": {
            "text/html": [
              "<div>\n",
              "<style scoped>\n",
              "    .dataframe tbody tr th:only-of-type {\n",
              "        vertical-align: middle;\n",
              "    }\n",
              "\n",
              "    .dataframe tbody tr th {\n",
              "        vertical-align: top;\n",
              "    }\n",
              "\n",
              "    .dataframe thead th {\n",
              "        text-align: right;\n",
              "    }\n",
              "</style>\n",
              "<table border=\"1\" class=\"dataframe\">\n",
              "  <thead>\n",
              "    <tr style=\"text-align: right;\">\n",
              "      <th></th>\n",
              "      <th>season</th>\n",
              "      <th>yr</th>\n",
              "      <th>mnth</th>\n",
              "      <th>holiday</th>\n",
              "      <th>weekday</th>\n",
              "      <th>workingday</th>\n",
              "      <th>weathersit</th>\n",
              "      <th>temp</th>\n",
              "      <th>atemp</th>\n",
              "      <th>hum</th>\n",
              "      <th>windspeed</th>\n",
              "      <th>cnt</th>\n",
              "      <th>hr</th>\n",
              "    </tr>\n",
              "    <tr>\n",
              "      <th>instant</th>\n",
              "      <th></th>\n",
              "      <th></th>\n",
              "      <th></th>\n",
              "      <th></th>\n",
              "      <th></th>\n",
              "      <th></th>\n",
              "      <th></th>\n",
              "      <th></th>\n",
              "      <th></th>\n",
              "      <th></th>\n",
              "      <th></th>\n",
              "      <th></th>\n",
              "      <th></th>\n",
              "    </tr>\n",
              "  </thead>\n",
              "  <tbody>\n",
              "    <tr>\n",
              "      <th>1</th>\n",
              "      <td>1</td>\n",
              "      <td>0</td>\n",
              "      <td>1</td>\n",
              "      <td>0</td>\n",
              "      <td>6</td>\n",
              "      <td>0</td>\n",
              "      <td>2</td>\n",
              "      <td>0.344167</td>\n",
              "      <td>0.363625</td>\n",
              "      <td>0.805833</td>\n",
              "      <td>0.160446</td>\n",
              "      <td>985</td>\n",
              "      <td>0</td>\n",
              "    </tr>\n",
              "    <tr>\n",
              "      <th>2</th>\n",
              "      <td>1</td>\n",
              "      <td>0</td>\n",
              "      <td>1</td>\n",
              "      <td>0</td>\n",
              "      <td>0</td>\n",
              "      <td>0</td>\n",
              "      <td>2</td>\n",
              "      <td>0.363478</td>\n",
              "      <td>0.353739</td>\n",
              "      <td>0.696087</td>\n",
              "      <td>0.248539</td>\n",
              "      <td>801</td>\n",
              "      <td>0</td>\n",
              "    </tr>\n",
              "    <tr>\n",
              "      <th>3</th>\n",
              "      <td>1</td>\n",
              "      <td>0</td>\n",
              "      <td>1</td>\n",
              "      <td>0</td>\n",
              "      <td>1</td>\n",
              "      <td>1</td>\n",
              "      <td>1</td>\n",
              "      <td>0.196364</td>\n",
              "      <td>0.189405</td>\n",
              "      <td>0.437273</td>\n",
              "      <td>0.248309</td>\n",
              "      <td>1349</td>\n",
              "      <td>0</td>\n",
              "    </tr>\n",
              "    <tr>\n",
              "      <th>4</th>\n",
              "      <td>1</td>\n",
              "      <td>0</td>\n",
              "      <td>1</td>\n",
              "      <td>0</td>\n",
              "      <td>2</td>\n",
              "      <td>1</td>\n",
              "      <td>1</td>\n",
              "      <td>0.200000</td>\n",
              "      <td>0.212122</td>\n",
              "      <td>0.590435</td>\n",
              "      <td>0.160296</td>\n",
              "      <td>1562</td>\n",
              "      <td>0</td>\n",
              "    </tr>\n",
              "    <tr>\n",
              "      <th>5</th>\n",
              "      <td>1</td>\n",
              "      <td>0</td>\n",
              "      <td>1</td>\n",
              "      <td>0</td>\n",
              "      <td>3</td>\n",
              "      <td>1</td>\n",
              "      <td>1</td>\n",
              "      <td>0.226957</td>\n",
              "      <td>0.229270</td>\n",
              "      <td>0.436957</td>\n",
              "      <td>0.186900</td>\n",
              "      <td>1600</td>\n",
              "      <td>0</td>\n",
              "    </tr>\n",
              "  </tbody>\n",
              "</table>\n",
              "</div>"
            ],
            "text/plain": [
              "        season yr mnth holiday weekday  ...     atemp       hum  windspeed   cnt  hr\n",
              "instant                                 ...                                         \n",
              "1            1  0    1       0       6  ...  0.363625  0.805833   0.160446   985   0\n",
              "2            1  0    1       0       0  ...  0.353739  0.696087   0.248539   801   0\n",
              "3            1  0    1       0       1  ...  0.189405  0.437273   0.248309  1349   0\n",
              "4            1  0    1       0       2  ...  0.212122  0.590435   0.160296  1562   0\n",
              "5            1  0    1       0       3  ...  0.229270  0.436957   0.186900  1600   0\n",
              "\n",
              "[5 rows x 13 columns]"
            ]
          },
          "metadata": {
            "tags": []
          },
          "execution_count": 71
        }
      ]
    },
    {
      "cell_type": "code",
      "metadata": {
        "id": "fEs-JphhGfJe",
        "outputId": "4b4f737c-3654-4614-b997-f06c0b9be0cf",
        "colab": {
          "base_uri": "https://localhost:8080/",
          "height": 52
        }
      },
      "source": [
        "#Feature Engineering\n",
        "# Defining categorical variables encoder method\n",
        "def fit_transform_ohe(df,col_name):\n",
        "    # label encode the column\n",
        "    le = preprocessing.LabelEncoder()\n",
        "    le_labels = le.fit_transform(df[col_name])\n",
        "    df[col_name+'_label'] = le_labels\n",
        "    # one hot encoding\n",
        "    ohe = preprocessing.OneHotEncoder()\n",
        "    feature_arr = ohe.fit_transform(df[[col_name+'_label']]).toarray()\n",
        "    feature_labels = [col_name+'_'+str(cls_label) for cls_label in le.classes_]\n",
        "    features_df = pd.DataFrame(feature_arr, columns=feature_labels)\n",
        "    return le,ohe,features_df\n",
        "\n",
        "# given label encoder and one hot encoder objects, \n",
        "# encode attribute to ohe\n",
        "def transform_ohe(df,le,ohe,col_name):\n",
        "    # label encode\n",
        "    col_labels = le.transform(df[col_name])\n",
        "    df[col_name+'_label'] = col_labels\n",
        "    \n",
        "    # ohe \n",
        "    feature_arr = ohe.fit_transform(df[[col_name+'_label']]).toarray()\n",
        "    feature_labels = [col_name+'_'+str(cls_label) for cls_label in le.classes_]\n",
        "    features_df = pd.DataFrame(feature_arr, columns=feature_labels)\n",
        "    \n",
        "    return features_df\n",
        "# Divide the dataset into training and testing sets\n",
        "X, X_test, y, y_test = train_test_split(df.drop('cnt',axis=1),\n",
        "                                        df['cnt'],\n",
        "                                        test_size=0.33,\n",
        "                                        random_state=42)\n",
        "X.reset_index(inplace=True)\n",
        "y = y.reset_index()\n",
        "\n",
        "X_test.reset_index(inplace=True)\n",
        "y_test = y_test.reset_index()\n",
        "# Encoding all the categorical features\n",
        "cat_attr_list = ['season','holiday',\n",
        "                 'weathersit','workingday',\n",
        "                 'hr','weekday','mnth','yr']\n",
        "# though we have transformed all categoricals into their one-hot encodings, note that ordinal\n",
        "# attributes such as hour, weekday, and so on do not require such encoding.\n",
        "numeric_feature_cols = ['temp','hum','windspeed',\n",
        "                        'hr','weekday','mnth','yr']\n",
        "subset_cat_features =  ['season','holiday','weathersit','workingday']\n",
        "\n",
        "###############\n",
        "# Train dataset\n",
        "###############\n",
        "encoded_attr_list = []\n",
        "for col in cat_attr_list:\n",
        "    return_obj = fit_transform_ohe(X,col)\n",
        "    encoded_attr_list.append({'label_enc':return_obj[0],\n",
        "                              'ohe_enc':return_obj[1],\n",
        "                              'feature_df':return_obj[2],\n",
        "                              'col_name':col})\n",
        "\n",
        "\n",
        "feature_df_list  = [X[numeric_feature_cols]]\n",
        "feature_df_list.extend([enc['feature_df'] \\\n",
        "                        for enc in encoded_attr_list \\\n",
        "                        if enc['col_name'] in subset_cat_features])\n",
        "\n",
        "train_df_new = pd.concat(feature_df_list, axis=1)\n",
        "print(\"Train dataset shape::{}\".format(train_df_new.shape))\n",
        "\n",
        "##############\n",
        "# Test dataset\n",
        "##############\n",
        "test_encoded_attr_list = []\n",
        "for enc in encoded_attr_list:\n",
        "    col_name = enc['col_name']\n",
        "    le = enc['label_enc']\n",
        "    ohe = enc['ohe_enc']\n",
        "    test_encoded_attr_list.append({'feature_df':transform_ohe(X_test,\n",
        "                                                              le,ohe,\n",
        "                                                              col_name),\n",
        "                                   'col_name':col_name})\n",
        "    \n",
        "    \n",
        "test_feature_df_list = [X_test[numeric_feature_cols]]\n",
        "test_feature_df_list.extend([enc['feature_df'] \\\n",
        "                             for enc in test_encoded_attr_list \\\n",
        "                             if enc['col_name'] in subset_cat_features])\n",
        "\n",
        "test_df_new = pd.concat(test_feature_df_list, axis=1) \n",
        "print(\"Test dataset shape::{}\".format(test_df_new.shape))"
      ],
      "execution_count": 72,
      "outputs": [
        {
          "output_type": "stream",
          "text": [
            "Train dataset shape::(489, 18)\n",
            "Test dataset shape::(242, 18)\n"
          ],
          "name": "stdout"
        }
      ]
    },
    {
      "cell_type": "code",
      "metadata": {
        "id": "BrZ9mB5TvTGi",
        "outputId": "3ae8ee6f-9e63-4609-a73b-e6df5a108f3e",
        "colab": {
          "base_uri": "https://localhost:8080/",
          "height": 104
        }
      },
      "source": [
        "test_df_new.columns"
      ],
      "execution_count": 73,
      "outputs": [
        {
          "output_type": "execute_result",
          "data": {
            "text/plain": [
              "Index(['temp', 'hum', 'windspeed', 'hr', 'weekday', 'mnth', 'yr', 'season_1',\n",
              "       'season_2', 'season_3', 'season_4', 'holiday_0', 'holiday_1',\n",
              "       'weathersit_1', 'weathersit_2', 'weathersit_3', 'workingday_0',\n",
              "       'workingday_1'],\n",
              "      dtype='object')"
            ]
          },
          "metadata": {
            "tags": []
          },
          "execution_count": 73
        }
      ]
    },
    {
      "cell_type": "code",
      "metadata": {
        "id": "esy9BIPlxPb8",
        "outputId": "f4e3808e-419f-40b8-e159-796e49f13cdb",
        "colab": {
          "base_uri": "https://localhost:8080/",
          "height": 104
        }
      },
      "source": [
        "train_df_new.columns"
      ],
      "execution_count": 74,
      "outputs": [
        {
          "output_type": "execute_result",
          "data": {
            "text/plain": [
              "Index(['temp', 'hum', 'windspeed', 'hr', 'weekday', 'mnth', 'yr', 'season_1',\n",
              "       'season_2', 'season_3', 'season_4', 'holiday_0', 'holiday_1',\n",
              "       'weathersit_1', 'weathersit_2', 'weathersit_3', 'workingday_0',\n",
              "       'workingday_1'],\n",
              "      dtype='object')"
            ]
          },
          "metadata": {
            "tags": []
          },
          "execution_count": 74
        }
      ]
    },
    {
      "cell_type": "code",
      "metadata": {
        "id": "SIRHXYZGIs5e",
        "outputId": "6c90de57-a659-4528-e296-68be8a9c7696",
        "colab": {
          "base_uri": "https://localhost:8080/",
          "height": 35
        }
      },
      "source": [
        "# Constructing train dataset\n",
        "X_train = train_df_new\n",
        "y_train= y\n",
        "\n",
        "# Constructing test dataset\n",
        "X_test = test_df_new\n",
        "y_test = y_test\n",
        "print(X.shape,y.shape)"
      ],
      "execution_count": 75,
      "outputs": [
        {
          "output_type": "stream",
          "text": [
            "(489, 21) (489, 2)\n"
          ],
          "name": "stdout"
        }
      ]
    },
    {
      "cell_type": "markdown",
      "metadata": {
        "id": "AeLo3ebyvmtM"
      },
      "source": [
        "# LinearRegression Model"
      ]
    },
    {
      "cell_type": "code",
      "metadata": {
        "id": "PgL7l4nyvmtO"
      },
      "source": [
        "model = LinearRegression()\n",
        "model.fit(X_train, y_train)\n",
        "y_pred = model.predict(X_test)\n"
      ],
      "execution_count": 76,
      "outputs": []
    },
    {
      "cell_type": "code",
      "metadata": {
        "id": "esH2zgBkvmtm",
        "outputId": "6f57c845-149a-4076-9fb1-942c0bedc67d",
        "colab": {
          "base_uri": "https://localhost:8080/",
          "height": 52
        }
      },
      "source": [
        "rmse = sqrt(mean_squared_error(y_test, y_pred))\n",
        "print(\"RMSE =\", rmse)\n",
        "# Explained variance score: 1 is perfect prediction\n",
        "print('Variance score: %.2f' % r2_score(y_test, y_pred))\n"
      ],
      "execution_count": 77,
      "outputs": [
        {
          "output_type": "stream",
          "text": [
            "RMSE = 551.9320707319453\n",
            "Variance score: 0.92\n"
          ],
          "name": "stdout"
        }
      ]
    },
    {
      "cell_type": "code",
      "metadata": {
        "id": "saUPhOXPvmt8",
        "outputId": "f5ece47b-c850-4068-8fc0-cc9c604268fd",
        "colab": {
          "base_uri": "https://localhost:8080/",
          "height": 208
        }
      },
      "source": [
        "# The coefficients\n",
        "print('Coefficients: \\n', model.coef_)\n",
        "\n"
      ],
      "execution_count": 78,
      "outputs": [
        {
          "output_type": "stream",
          "text": [
            "Coefficients: \n",
            " [[-1.76553880e+00  7.45618934e+00 -3.93785062e-02  3.55271368e-15\n",
            "   1.26467218e-01  3.04467031e+01  3.66027914e+02  7.12080922e-01\n",
            "  -1.65096817e-01  3.54829952e-02 -5.82467100e-01 -7.23083102e-03\n",
            "   7.23083102e-03  9.37443526e-01 -8.97895960e-01 -3.95475660e-02\n",
            "  -2.15261926e-01  2.15261926e-01]\n",
            " [ 5.29776885e+03 -1.03290257e+03 -2.62815170e+03 -4.55901983e-12\n",
            "   6.32580367e+01 -2.47534635e+01  1.97695963e+03 -9.38327815e+02\n",
            "   2.19681251e+02 -6.03687592e+01  7.79015323e+02  2.38714321e+02\n",
            "  -2.38714321e+02  8.05072278e+02  2.75039493e+02 -1.08011177e+03\n",
            "  -6.30002366e+01  6.30002366e+01]]\n"
          ],
          "name": "stdout"
        }
      ]
    },
    {
      "cell_type": "code",
      "metadata": {
        "id": "WaYVDLNAvmuM"
      },
      "source": [
        "from sklearn.metrics import mean_squared_log_error\n",
        "def rmsle(y_test,predictions):\n",
        "    return np.sqrt(mean_squared_log_error( y_test, predictions ))"
      ],
      "execution_count": 79,
      "outputs": []
    },
    {
      "cell_type": "markdown",
      "metadata": {
        "id": "8qIjy9YOvmun"
      },
      "source": [
        "# RandomForestRegressor Model"
      ]
    },
    {
      "cell_type": "code",
      "metadata": {
        "id": "84QwrnGIvmup"
      },
      "source": [
        "from sklearn.ensemble import RandomForestRegressor\n",
        "RFmodel = RandomForestRegressor()"
      ],
      "execution_count": 80,
      "outputs": []
    },
    {
      "cell_type": "code",
      "metadata": {
        "id": "sZd679ifvmvD"
      },
      "source": [
        "RFmodel.fit(X_train, y_train)\n",
        "RF_y_pred = RFmodel.predict(X_test)\n",
        "\n"
      ],
      "execution_count": 81,
      "outputs": []
    },
    {
      "cell_type": "code",
      "metadata": {
        "id": "JPs1YvopvmvQ",
        "outputId": "8410f0f1-c8e8-4c12-cc4b-003e875b3be6",
        "colab": {
          "base_uri": "https://localhost:8080/",
          "height": 69
        }
      },
      "source": [
        "\n",
        "rmse = sqrt(mean_squared_error(y_test, RF_y_pred))\n",
        "print(\"RMSE =\",rmse)\n",
        "# Explained variance score: 1 is perfect prediction\n",
        "print('Variance score: %.2f' % r2_score(y_test, RF_y_pred))\n",
        "print(\"RMSLE: \",np.sqrt(mean_squared_log_error( y_test, RF_y_pred )))"
      ],
      "execution_count": 82,
      "outputs": [
        {
          "output_type": "stream",
          "text": [
            "RMSE = 458.87834269422837\n",
            "Variance score: 0.93\n",
            "RMSLE:  0.32197949876466236\n"
          ],
          "name": "stdout"
        }
      ]
    },
    {
      "cell_type": "markdown",
      "metadata": {
        "id": "XB-A-Ph7vmvk"
      },
      "source": [
        "# DecisionTreeRegressor Model"
      ]
    },
    {
      "cell_type": "code",
      "metadata": {
        "id": "K9CnrYLVvmvl"
      },
      "source": [
        "DT_model = DecisionTreeRegressor()\n",
        "DT_model.fit(X_train, y_train)\n",
        "DT_y_pred = DT_model.predict(X_test)   "
      ],
      "execution_count": 83,
      "outputs": []
    },
    {
      "cell_type": "code",
      "metadata": {
        "id": "Rz3CWns0vmvt",
        "outputId": "a6f48b14-bb48-410d-9abd-80c1ca1dba7c",
        "colab": {
          "base_uri": "https://localhost:8080/",
          "height": 69
        }
      },
      "source": [
        "rmse = sqrt(mean_squared_error(y_test, DT_y_pred))\n",
        "print(\"RMSE =\", rmse)\n",
        "# Explained variance score: 1 is perfect prediction\n",
        "print('Variance score: %.2f' % r2_score(y_test, DT_y_pred))\n",
        "print(\"RMSLE: \",np.sqrt(mean_squared_log_error( y_test, DT_y_pred )))"
      ],
      "execution_count": 84,
      "outputs": [
        {
          "output_type": "stream",
          "text": [
            "RMSE = 579.7960937524316\n",
            "Variance score: 0.85\n",
            "RMSLE:  0.39258267465982694\n"
          ],
          "name": "stdout"
        }
      ]
    },
    {
      "cell_type": "code",
      "metadata": {
        "id": "sJVn9sg3vmwB"
      },
      "source": [
        ""
      ],
      "execution_count": 84,
      "outputs": []
    }
  ]
}